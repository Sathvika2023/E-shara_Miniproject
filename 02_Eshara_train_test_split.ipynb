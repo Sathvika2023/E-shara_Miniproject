{
  "nbformat": 4,
  "nbformat_minor": 0,
  "metadata": {
    "colab": {
      "provenance": [],
      "include_colab_link": true
    },
    "kernelspec": {
      "name": "python3",
      "display_name": "Python 3"
    },
    "language_info": {
      "name": "python"
    }
  },
  "cells": [
    {
      "cell_type": "markdown",
      "metadata": {
        "id": "view-in-github",
        "colab_type": "text"
      },
      "source": [
        "<a href=\"https://colab.research.google.com/github/ayushijainn111/E-shara_Miniproject/blob/main/02_Eshara_train_test_split.ipynb\" target=\"_parent\"><img src=\"https://colab.research.google.com/assets/colab-badge.svg\" alt=\"Open In Colab\"/></a>"
      ]
    },
    {
      "cell_type": "markdown",
      "source": [
        "### Importing functions from helper.py"
      ],
      "metadata": {
        "id": "GXtrYKwxYpEC"
      }
    },
    {
      "cell_type": "code",
      "source": [
        "!wget https://raw.githubusercontent.com/mrdbourke/tensorflow-deep-learning/refs/heads/main/extras/helper_functions.py"
      ],
      "metadata": {
        "colab": {
          "base_uri": "https://localhost:8080/"
        },
        "id": "EG-zoUkoSJoS",
        "outputId": "bf04c74b-30f3-4a17-be45-95970bbc7cb5"
      },
      "execution_count": null,
      "outputs": [
        {
          "output_type": "stream",
          "name": "stdout",
          "text": [
            "--2025-05-05 12:42:50--  https://raw.githubusercontent.com/mrdbourke/tensorflow-deep-learning/refs/heads/main/extras/helper_functions.py\n",
            "Resolving raw.githubusercontent.com (raw.githubusercontent.com)... 185.199.108.133, 185.199.109.133, 185.199.110.133, ...\n",
            "Connecting to raw.githubusercontent.com (raw.githubusercontent.com)|185.199.108.133|:443... connected.\n",
            "HTTP request sent, awaiting response... 200 OK\n",
            "Length: 10246 (10K) [text/plain]\n",
            "Saving to: ‘helper_functions.py’\n",
            "\n",
            "helper_functions.py 100%[===================>]  10.01K  --.-KB/s    in 0.001s  \n",
            "\n",
            "2025-05-05 12:42:51 (6.85 MB/s) - ‘helper_functions.py’ saved [10246/10246]\n",
            "\n"
          ]
        }
      ]
    },
    {
      "cell_type": "code",
      "source": [
        "# Import series of helper functions for our notebook\n",
        "import helper_functions\n",
        "from helper_functions import create_tensorboard_callback, plot_loss_curves, compare_historys, walk_through_dir, unzip_data"
      ],
      "metadata": {
        "id": "HVpdt-pJSTWn"
      },
      "execution_count": null,
      "outputs": []
    },
    {
      "cell_type": "markdown",
      "source": [
        "### Removing the unecessary folders"
      ],
      "metadata": {
        "id": "Q2b5BK8WYiNl"
      }
    },
    {
      "cell_type": "code",
      "source": [
        "# import shutil\n",
        "# import os\n",
        "\n",
        "# base_path = '/content/drive/MyDrive/feature_train_test_data/reduced_train_100'  # Replace with the correct path\n",
        "\n",
        "# # reduced_test_path = os.path.join(base_path, 'reduced_test')\n",
        "# reduced_train_path = os.path.join(base_path, 'reduced_train_1000')\n",
        "\n",
        "# # Delete the folders\n",
        "# # shutil.rmtree(reduced_test_path, ignore_errors=True)\n",
        "# shutil.rmtree(base_path, ignore_errors=True)\n",
        "\n",
        "# print(\"Deleted 'reduced_test' and 'reduced_train' folders.\")"
      ],
      "metadata": {
        "id": "s00vsEYWSVJq",
        "colab": {
          "base_uri": "https://localhost:8080/"
        },
        "outputId": "d69103c5-8e8a-4d71-a90e-9f30fb4f3d93"
      },
      "execution_count": null,
      "outputs": [
        {
          "output_type": "stream",
          "name": "stdout",
          "text": [
            "Deleted 'reduced_test' and 'reduced_train' folders.\n"
          ]
        }
      ]
    },
    {
      "cell_type": "code",
      "source": [
        "walk_through_dir(\"/content/drive/MyDrive/openpose_train_test_data/train\")"
      ],
      "metadata": {
        "colab": {
          "base_uri": "https://localhost:8080/"
        },
        "id": "2LIjbaprFX80",
        "outputId": "2da36c92-fbd3-4515-e0fb-e4184b38ffe7"
      },
      "execution_count": null,
      "outputs": [
        {
          "output_type": "stream",
          "name": "stdout",
          "text": [
            "There are 39 directories and 0 images in '/content/drive/MyDrive/openpose_train_test_data/train'.\n",
            "There are 0 directories and 3030 images in '/content/drive/MyDrive/openpose_train_test_data/train/48. Hello'.\n",
            "There are 0 directories and 3374 images in '/content/drive/MyDrive/openpose_train_test_data/train/52. Good afternoon'.\n",
            "There are 0 directories and 2529 images in '/content/drive/MyDrive/openpose_train_test_data/train/88. cold'.\n",
            "There are 0 directories and 3075 images in '/content/drive/MyDrive/openpose_train_test_data/train/55. Thank you'.\n",
            "There are 0 directories and 2716 images in '/content/drive/MyDrive/openpose_train_test_data/train/80. tall'.\n",
            "There are 0 directories and 2866 images in '/content/drive/MyDrive/openpose_train_test_data/train/40. I'.\n",
            "There are 0 directories and 3416 images in '/content/drive/MyDrive/openpose_train_test_data/train/54. Good night'.\n",
            "There are 0 directories and 3931 images in '/content/drive/MyDrive/openpose_train_test_data/train/49. How are you'.\n",
            "There are 0 directories and 2684 images in '/content/drive/MyDrive/openpose_train_test_data/train/1. loud'.\n",
            "There are 0 directories and 3245 images in '/content/drive/MyDrive/openpose_train_test_data/train/45. we'.\n",
            "There are 0 directories and 3389 images in '/content/drive/MyDrive/openpose_train_test_data/train/53. Good evening'.\n",
            "There are 0 directories and 1099 images in '/content/drive/MyDrive/openpose_train_test_data/train/36. light'.\n",
            "There are 0 directories and 2921 images in '/content/drive/MyDrive/openpose_train_test_data/train/41. you'.\n",
            "There are 0 directories and 3225 images in '/content/drive/MyDrive/openpose_train_test_data/train/50. Alright'.\n",
            "There are 0 directories and 2540 images in '/content/drive/MyDrive/openpose_train_test_data/train/79. short'.\n",
            "There are 0 directories and 2927 images in '/content/drive/MyDrive/openpose_train_test_data/train/89. warm'.\n",
            "There are 0 directories and 1005 images in '/content/drive/MyDrive/openpose_train_test_data/train/8. Blind'.\n",
            "There are 0 directories and 2553 images in '/content/drive/MyDrive/openpose_train_test_data/train/3. happy'.\n",
            "There are 0 directories and 3451 images in '/content/drive/MyDrive/openpose_train_test_data/train/46. you (plural)'.\n",
            "There are 0 directories and 3238 images in '/content/drive/MyDrive/openpose_train_test_data/train/43. she'.\n",
            "There are 0 directories and 2863 images in '/content/drive/MyDrive/openpose_train_test_data/train/98. sick'.\n",
            "There are 0 directories and 3007 images in '/content/drive/MyDrive/openpose_train_test_data/train/99. healthy'.\n",
            "There are 0 directories and 3385 images in '/content/drive/MyDrive/openpose_train_test_data/train/47. they'.\n",
            "There are 0 directories and 3028 images in '/content/drive/MyDrive/openpose_train_test_data/train/56. Pleased'.\n",
            "There are 0 directories and 3222 images in '/content/drive/MyDrive/openpose_train_test_data/train/51. Good Morning'.\n",
            "There are 0 directories and 2803 images in '/content/drive/MyDrive/openpose_train_test_data/train/78. long'.\n",
            "There are 0 directories and 2910 images in '/content/drive/MyDrive/openpose_train_test_data/train/2. quiet'.\n",
            "There are 0 directories and 940 images in '/content/drive/MyDrive/openpose_train_test_data/train/39. famous'.\n",
            "There are 0 directories and 3223 images in '/content/drive/MyDrive/openpose_train_test_data/train/42. he'.\n",
            "There are 0 directories and 2753 images in '/content/drive/MyDrive/openpose_train_test_data/train/81. wide'.\n",
            "There are 0 directories and 2853 images in '/content/drive/MyDrive/openpose_train_test_data/train/44. it'.\n",
            "There are 0 directories and 2770 images in '/content/drive/MyDrive/openpose_train_test_data/train/87. hot'.\n",
            "There are 0 directories and 2643 images in '/content/drive/MyDrive/openpose_train_test_data/train/90. cool'.\n",
            "There are 0 directories and 2528 images in '/content/drive/MyDrive/openpose_train_test_data/train/91. new'.\n",
            "There are 0 directories and 3002 images in '/content/drive/MyDrive/openpose_train_test_data/train/97. dry'.\n",
            "There are 0 directories and 1007 images in '/content/drive/MyDrive/openpose_train_test_data/train/7. Deaf'.\n",
            "There are 0 directories and 1219 images in '/content/drive/MyDrive/openpose_train_test_data/train/5. Beautiful'.\n",
            "There are 0 directories and 1200 images in '/content/drive/MyDrive/openpose_train_test_data/train/4. sad'.\n",
            "There are 0 directories and 1102 images in '/content/drive/MyDrive/openpose_train_test_data/train/6. Ugly'.\n"
          ]
        }
      ]
    },
    {
      "cell_type": "code",
      "source": [
        "from google.colab import drive\n",
        "drive.mount('/content/drive')"
      ],
      "metadata": {
        "colab": {
          "base_uri": "https://localhost:8080/"
        },
        "id": "PhfZrYtH4B1j",
        "outputId": "e4131ad6-0de0-44a3-af53-f57f2484a75d"
      },
      "execution_count": null,
      "outputs": [
        {
          "output_type": "stream",
          "name": "stdout",
          "text": [
            "Drive already mounted at /content/drive; to attempt to forcibly remount, call drive.mount(\"/content/drive\", force_remount=True).\n"
          ]
        }
      ]
    },
    {
      "cell_type": "code",
      "source": [
        "# import os\n",
        "# import random\n",
        "# import shutil\n",
        "\n",
        "# original_train_dir = '/content/drive/MyDrive/openpose_train_test_data/train'  # Update as needed\n",
        "# reduced_train_dir = '/content/drive/MyDrive/openpose_train_test_data/reduced_train_1000'\n",
        "\n",
        "# # Create the reduced_train directory\n",
        "# os.makedirs(reduced_train_dir, exist_ok=True)\n",
        "\n",
        "# # Iterate through each class folder\n",
        "# for class_name in os.listdir(original_train_dir):\n",
        "#     class_path = os.path.join(original_train_dir, class_name)\n",
        "#     if not os.path.isdir(class_path):\n",
        "#         continue\n",
        "\n",
        "#     # Create corresponding class folder in reduced_train\n",
        "#     new_class_path = os.path.join(reduced_train_dir, class_name)\n",
        "#     os.makedirs(new_class_path, exist_ok=True)\n",
        "\n",
        "#     # Get all image files in this class\n",
        "#     images = os.listdir(class_path)\n",
        "#     sampled_images = random.sample(images, min(len(images), 1000))  # Sample up to 1000\n",
        "\n",
        "#     # Copy sampled images to the reduced folder\n",
        "#     for img in sampled_images:\n",
        "#         src = os.path.join(class_path, img)\n",
        "#         dst = os.path.join(new_class_path, img)\n",
        "#         shutil.copy2(src, dst)\n",
        "\n",
        "#     print(f\"Copied {len(sampled_images)} images to {new_class_path}\")"
      ],
      "metadata": {
        "id": "3R1AUDdhSdGK",
        "colab": {
          "base_uri": "https://localhost:8080/"
        },
        "outputId": "3d07d407-f590-4c80-92d6-7192ccf17c2b"
      },
      "execution_count": null,
      "outputs": [
        {
          "output_type": "stream",
          "name": "stdout",
          "text": [
            "Copied 1000 images to /content/drive/MyDrive/openpose_train_test_data/reduced_train_1000/48. Hello\n",
            "Copied 1000 images to /content/drive/MyDrive/openpose_train_test_data/reduced_train_1000/52. Good afternoon\n",
            "Copied 1000 images to /content/drive/MyDrive/openpose_train_test_data/reduced_train_1000/88. cold\n",
            "Copied 1000 images to /content/drive/MyDrive/openpose_train_test_data/reduced_train_1000/55. Thank you\n",
            "Copied 1000 images to /content/drive/MyDrive/openpose_train_test_data/reduced_train_1000/80. tall\n",
            "Copied 1000 images to /content/drive/MyDrive/openpose_train_test_data/reduced_train_1000/40. I\n",
            "Copied 1000 images to /content/drive/MyDrive/openpose_train_test_data/reduced_train_1000/54. Good night\n",
            "Copied 1000 images to /content/drive/MyDrive/openpose_train_test_data/reduced_train_1000/49. How are you\n",
            "Copied 1000 images to /content/drive/MyDrive/openpose_train_test_data/reduced_train_1000/1. loud\n",
            "Copied 1000 images to /content/drive/MyDrive/openpose_train_test_data/reduced_train_1000/45. we\n",
            "Copied 1000 images to /content/drive/MyDrive/openpose_train_test_data/reduced_train_1000/53. Good evening\n",
            "Copied 1000 images to /content/drive/MyDrive/openpose_train_test_data/reduced_train_1000/36. light\n",
            "Copied 1000 images to /content/drive/MyDrive/openpose_train_test_data/reduced_train_1000/41. you\n",
            "Copied 1000 images to /content/drive/MyDrive/openpose_train_test_data/reduced_train_1000/50. Alright\n",
            "Copied 1000 images to /content/drive/MyDrive/openpose_train_test_data/reduced_train_1000/79. short\n",
            "Copied 1000 images to /content/drive/MyDrive/openpose_train_test_data/reduced_train_1000/89. warm\n",
            "Copied 1000 images to /content/drive/MyDrive/openpose_train_test_data/reduced_train_1000/8. Blind\n",
            "Copied 1000 images to /content/drive/MyDrive/openpose_train_test_data/reduced_train_1000/3. happy\n",
            "Copied 1000 images to /content/drive/MyDrive/openpose_train_test_data/reduced_train_1000/46. you (plural)\n",
            "Copied 1000 images to /content/drive/MyDrive/openpose_train_test_data/reduced_train_1000/43. she\n",
            "Copied 1000 images to /content/drive/MyDrive/openpose_train_test_data/reduced_train_1000/98. sick\n",
            "Copied 1000 images to /content/drive/MyDrive/openpose_train_test_data/reduced_train_1000/99. healthy\n",
            "Copied 1000 images to /content/drive/MyDrive/openpose_train_test_data/reduced_train_1000/47. they\n",
            "Copied 1000 images to /content/drive/MyDrive/openpose_train_test_data/reduced_train_1000/56. Pleased\n",
            "Copied 1000 images to /content/drive/MyDrive/openpose_train_test_data/reduced_train_1000/51. Good Morning\n",
            "Copied 1000 images to /content/drive/MyDrive/openpose_train_test_data/reduced_train_1000/78. long\n",
            "Copied 1000 images to /content/drive/MyDrive/openpose_train_test_data/reduced_train_1000/2. quiet\n",
            "Copied 940 images to /content/drive/MyDrive/openpose_train_test_data/reduced_train_1000/39. famous\n",
            "Copied 1000 images to /content/drive/MyDrive/openpose_train_test_data/reduced_train_1000/42. he\n",
            "Copied 1000 images to /content/drive/MyDrive/openpose_train_test_data/reduced_train_1000/81. wide\n",
            "Copied 1000 images to /content/drive/MyDrive/openpose_train_test_data/reduced_train_1000/44. it\n",
            "Copied 1000 images to /content/drive/MyDrive/openpose_train_test_data/reduced_train_1000/87. hot\n",
            "Copied 1000 images to /content/drive/MyDrive/openpose_train_test_data/reduced_train_1000/90. cool\n",
            "Copied 1000 images to /content/drive/MyDrive/openpose_train_test_data/reduced_train_1000/91. new\n",
            "Copied 1000 images to /content/drive/MyDrive/openpose_train_test_data/reduced_train_1000/97. dry\n",
            "Copied 1000 images to /content/drive/MyDrive/openpose_train_test_data/reduced_train_1000/7. Deaf\n",
            "Copied 1000 images to /content/drive/MyDrive/openpose_train_test_data/reduced_train_1000/5. Beautiful\n",
            "Copied 1000 images to /content/drive/MyDrive/openpose_train_test_data/reduced_train_1000/4. sad\n",
            "Copied 1000 images to /content/drive/MyDrive/openpose_train_test_data/reduced_train_1000/6. Ugly\n"
          ]
        }
      ]
    },
    {
      "cell_type": "code",
      "source": [
        "walk_through_dir(\"/content/drive/MyDrive/openpose_train_test_data/reduced_train_1000\")"
      ],
      "metadata": {
        "colab": {
          "base_uri": "https://localhost:8080/"
        },
        "id": "_zPy3ZQx5d5h",
        "outputId": "d9a22771-f2b7-4a09-d6ae-e00fb427259b"
      },
      "execution_count": null,
      "outputs": [
        {
          "output_type": "stream",
          "name": "stdout",
          "text": [
            "There are 39 directories and 0 images in '/content/drive/MyDrive/openpose_train_test_data/reduced_train_1000'.\n",
            "There are 0 directories and 1000 images in '/content/drive/MyDrive/openpose_train_test_data/reduced_train_1000/48. Hello'.\n",
            "There are 0 directories and 1000 images in '/content/drive/MyDrive/openpose_train_test_data/reduced_train_1000/52. Good afternoon'.\n",
            "There are 0 directories and 1000 images in '/content/drive/MyDrive/openpose_train_test_data/reduced_train_1000/88. cold'.\n",
            "There are 0 directories and 1000 images in '/content/drive/MyDrive/openpose_train_test_data/reduced_train_1000/55. Thank you'.\n",
            "There are 0 directories and 1000 images in '/content/drive/MyDrive/openpose_train_test_data/reduced_train_1000/80. tall'.\n",
            "There are 0 directories and 1000 images in '/content/drive/MyDrive/openpose_train_test_data/reduced_train_1000/40. I'.\n",
            "There are 0 directories and 1000 images in '/content/drive/MyDrive/openpose_train_test_data/reduced_train_1000/54. Good night'.\n",
            "There are 0 directories and 1000 images in '/content/drive/MyDrive/openpose_train_test_data/reduced_train_1000/49. How are you'.\n",
            "There are 0 directories and 1000 images in '/content/drive/MyDrive/openpose_train_test_data/reduced_train_1000/1. loud'.\n",
            "There are 0 directories and 1000 images in '/content/drive/MyDrive/openpose_train_test_data/reduced_train_1000/45. we'.\n",
            "There are 0 directories and 1000 images in '/content/drive/MyDrive/openpose_train_test_data/reduced_train_1000/53. Good evening'.\n",
            "There are 0 directories and 1000 images in '/content/drive/MyDrive/openpose_train_test_data/reduced_train_1000/36. light'.\n",
            "There are 0 directories and 1000 images in '/content/drive/MyDrive/openpose_train_test_data/reduced_train_1000/41. you'.\n",
            "There are 0 directories and 1000 images in '/content/drive/MyDrive/openpose_train_test_data/reduced_train_1000/50. Alright'.\n",
            "There are 0 directories and 1000 images in '/content/drive/MyDrive/openpose_train_test_data/reduced_train_1000/79. short'.\n",
            "There are 0 directories and 1000 images in '/content/drive/MyDrive/openpose_train_test_data/reduced_train_1000/89. warm'.\n",
            "There are 0 directories and 1000 images in '/content/drive/MyDrive/openpose_train_test_data/reduced_train_1000/8. Blind'.\n",
            "There are 0 directories and 1000 images in '/content/drive/MyDrive/openpose_train_test_data/reduced_train_1000/3. happy'.\n",
            "There are 0 directories and 1000 images in '/content/drive/MyDrive/openpose_train_test_data/reduced_train_1000/46. you (plural)'.\n",
            "There are 0 directories and 1000 images in '/content/drive/MyDrive/openpose_train_test_data/reduced_train_1000/43. she'.\n",
            "There are 0 directories and 1000 images in '/content/drive/MyDrive/openpose_train_test_data/reduced_train_1000/98. sick'.\n",
            "There are 0 directories and 1000 images in '/content/drive/MyDrive/openpose_train_test_data/reduced_train_1000/99. healthy'.\n",
            "There are 0 directories and 1000 images in '/content/drive/MyDrive/openpose_train_test_data/reduced_train_1000/47. they'.\n",
            "There are 0 directories and 1000 images in '/content/drive/MyDrive/openpose_train_test_data/reduced_train_1000/56. Pleased'.\n",
            "There are 0 directories and 1000 images in '/content/drive/MyDrive/openpose_train_test_data/reduced_train_1000/51. Good Morning'.\n",
            "There are 0 directories and 1000 images in '/content/drive/MyDrive/openpose_train_test_data/reduced_train_1000/78. long'.\n",
            "There are 0 directories and 1000 images in '/content/drive/MyDrive/openpose_train_test_data/reduced_train_1000/2. quiet'.\n",
            "There are 0 directories and 940 images in '/content/drive/MyDrive/openpose_train_test_data/reduced_train_1000/39. famous'.\n",
            "There are 0 directories and 1000 images in '/content/drive/MyDrive/openpose_train_test_data/reduced_train_1000/42. he'.\n",
            "There are 0 directories and 1000 images in '/content/drive/MyDrive/openpose_train_test_data/reduced_train_1000/81. wide'.\n",
            "There are 0 directories and 1000 images in '/content/drive/MyDrive/openpose_train_test_data/reduced_train_1000/44. it'.\n",
            "There are 0 directories and 1000 images in '/content/drive/MyDrive/openpose_train_test_data/reduced_train_1000/87. hot'.\n",
            "There are 0 directories and 1000 images in '/content/drive/MyDrive/openpose_train_test_data/reduced_train_1000/90. cool'.\n",
            "There are 0 directories and 1000 images in '/content/drive/MyDrive/openpose_train_test_data/reduced_train_1000/91. new'.\n",
            "There are 0 directories and 1000 images in '/content/drive/MyDrive/openpose_train_test_data/reduced_train_1000/97. dry'.\n",
            "There are 0 directories and 1000 images in '/content/drive/MyDrive/openpose_train_test_data/reduced_train_1000/7. Deaf'.\n",
            "There are 0 directories and 1000 images in '/content/drive/MyDrive/openpose_train_test_data/reduced_train_1000/5. Beautiful'.\n",
            "There are 0 directories and 1000 images in '/content/drive/MyDrive/openpose_train_test_data/reduced_train_1000/4. sad'.\n",
            "There are 0 directories and 1000 images in '/content/drive/MyDrive/openpose_train_test_data/reduced_train_1000/6. Ugly'.\n"
          ]
        }
      ]
    },
    {
      "cell_type": "code",
      "source": [
        "import os\n",
        "import random\n",
        "import shutil\n",
        "\n",
        "original_test_dir = '/content/drive/MyDrive/openpose_train_test_data/test'  # Update if needed\n",
        "reduced_test_dir = '/content/drive/MyDrive/openpose_train_test_data/reduced_test_250'\n",
        "\n",
        "# Create the reduced_test directory\n",
        "os.makedirs(reduced_test_dir, exist_ok=True)\n",
        "\n",
        "# Iterate through each class folder\n",
        "for class_name in os.listdir(original_test_dir):\n",
        "    class_path = os.path.join(original_test_dir, class_name)\n",
        "    if not os.path.isdir(class_path):\n",
        "        continue\n",
        "\n",
        "    # Create corresponding class folder in reduced_test\n",
        "    new_class_path = os.path.join(reduced_test_dir, class_name)\n",
        "    os.makedirs(new_class_path, exist_ok=True)\n",
        "\n",
        "    # Get all image files in this class\n",
        "    images = os.listdir(class_path)\n",
        "    sampled_images = random.sample(images, min(len(images), 250))  # Sample up to 250\n",
        "\n",
        "    # Copy sampled images to the reduced folder\n",
        "    for img in sampled_images:\n",
        "        src = os.path.join(class_path, img)\n",
        "        dst = os.path.join(new_class_path, img)\n",
        "        shutil.copy2(src, dst)\n",
        "\n",
        "    print(f\"Copied {len(sampled_images)} images to {new_class_path}\")\n"
      ],
      "metadata": {
        "colab": {
          "base_uri": "https://localhost:8080/"
        },
        "id": "dNgz01I5S6Au",
        "outputId": "1b97e45d-4019-4b54-8299-921a12558260"
      },
      "execution_count": null,
      "outputs": [
        {
          "output_type": "stream",
          "name": "stdout",
          "text": [
            "Copied 250 images to /content/drive/MyDrive/openpose_train_test_data/reduced_test_250/89. warm\n",
            "Copied 250 images to /content/drive/MyDrive/openpose_train_test_data/reduced_test_250/50. Alright\n",
            "Copied 224 images to /content/drive/MyDrive/openpose_train_test_data/reduced_test_250/79. short\n",
            "Copied 250 images to /content/drive/MyDrive/openpose_train_test_data/reduced_test_250/42. he\n",
            "Copied 250 images to /content/drive/MyDrive/openpose_train_test_data/reduced_test_250/48. Hello\n",
            "Copied 250 images to /content/drive/MyDrive/openpose_train_test_data/reduced_test_250/47. they\n",
            "Copied 234 images to /content/drive/MyDrive/openpose_train_test_data/reduced_test_250/1. loud\n",
            "Copied 250 images to /content/drive/MyDrive/openpose_train_test_data/reduced_test_250/97. dry\n",
            "Copied 90 images to /content/drive/MyDrive/openpose_train_test_data/reduced_test_250/7. Deaf\n",
            "Copied 250 images to /content/drive/MyDrive/openpose_train_test_data/reduced_test_250/43. she\n",
            "Copied 250 images to /content/drive/MyDrive/openpose_train_test_data/reduced_test_250/53. Good evening\n",
            "Copied 217 images to /content/drive/MyDrive/openpose_train_test_data/reduced_test_250/91. new\n",
            "Copied 236 images to /content/drive/MyDrive/openpose_train_test_data/reduced_test_250/80. tall\n",
            "Copied 250 images to /content/drive/MyDrive/openpose_train_test_data/reduced_test_250/56. Pleased\n",
            "Copied 250 images to /content/drive/MyDrive/openpose_train_test_data/reduced_test_250/49. How are you\n",
            "Copied 240 images to /content/drive/MyDrive/openpose_train_test_data/reduced_test_250/81. wide\n",
            "Copied 250 images to /content/drive/MyDrive/openpose_train_test_data/reduced_test_250/52. Good afternoon\n",
            "Copied 245 images to /content/drive/MyDrive/openpose_train_test_data/reduced_test_250/44. it\n",
            "Copied 250 images to /content/drive/MyDrive/openpose_train_test_data/reduced_test_250/45. we\n",
            "Copied 250 images to /content/drive/MyDrive/openpose_train_test_data/reduced_test_250/46. you (plural)\n",
            "Copied 250 images to /content/drive/MyDrive/openpose_train_test_data/reduced_test_250/55. Thank you\n",
            "Copied 105 images to /content/drive/MyDrive/openpose_train_test_data/reduced_test_250/4. sad\n",
            "Copied 109 images to /content/drive/MyDrive/openpose_train_test_data/reduced_test_250/5. Beautiful\n",
            "Copied 98 images to /content/drive/MyDrive/openpose_train_test_data/reduced_test_250/6. Ugly\n",
            "Copied 250 images to /content/drive/MyDrive/openpose_train_test_data/reduced_test_250/40. I\n",
            "Copied 228 images to /content/drive/MyDrive/openpose_train_test_data/reduced_test_250/90. cool\n"
          ]
        }
      ]
    },
    {
      "cell_type": "code",
      "source": [
        "walk_through_dir(\"/content/drive/MyDrive/openpose_train_test_data/reduced_test_250\")"
      ],
      "metadata": {
        "colab": {
          "base_uri": "https://localhost:8080/"
        },
        "id": "-ZDggjB4T6gB",
        "outputId": "9b411326-1c6d-4a0c-e3d2-8e82e2ffa3ce"
      },
      "execution_count": null,
      "outputs": [
        {
          "output_type": "stream",
          "name": "stdout",
          "text": [
            "There are 39 directories and 0 images in '/content/drive/MyDrive/openpose_train_test_data/reduced_test_250'.\n",
            "There are 0 directories and 250 images in '/content/drive/MyDrive/openpose_train_test_data/reduced_test_250/89. warm'.\n",
            "There are 0 directories and 250 images in '/content/drive/MyDrive/openpose_train_test_data/reduced_test_250/50. Alright'.\n",
            "There are 0 directories and 224 images in '/content/drive/MyDrive/openpose_train_test_data/reduced_test_250/79. short'.\n",
            "There are 0 directories and 250 images in '/content/drive/MyDrive/openpose_train_test_data/reduced_test_250/42. he'.\n",
            "There are 0 directories and 250 images in '/content/drive/MyDrive/openpose_train_test_data/reduced_test_250/48. Hello'.\n",
            "There are 0 directories and 250 images in '/content/drive/MyDrive/openpose_train_test_data/reduced_test_250/47. they'.\n",
            "There are 0 directories and 234 images in '/content/drive/MyDrive/openpose_train_test_data/reduced_test_250/1. loud'.\n",
            "There are 0 directories and 250 images in '/content/drive/MyDrive/openpose_train_test_data/reduced_test_250/97. dry'.\n",
            "There are 0 directories and 90 images in '/content/drive/MyDrive/openpose_train_test_data/reduced_test_250/7. Deaf'.\n",
            "There are 0 directories and 250 images in '/content/drive/MyDrive/openpose_train_test_data/reduced_test_250/43. she'.\n",
            "There are 0 directories and 250 images in '/content/drive/MyDrive/openpose_train_test_data/reduced_test_250/53. Good evening'.\n",
            "There are 0 directories and 217 images in '/content/drive/MyDrive/openpose_train_test_data/reduced_test_250/91. new'.\n",
            "There are 0 directories and 236 images in '/content/drive/MyDrive/openpose_train_test_data/reduced_test_250/80. tall'.\n",
            "There are 0 directories and 250 images in '/content/drive/MyDrive/openpose_train_test_data/reduced_test_250/56. Pleased'.\n",
            "There are 0 directories and 250 images in '/content/drive/MyDrive/openpose_train_test_data/reduced_test_250/49. How are you'.\n",
            "There are 0 directories and 240 images in '/content/drive/MyDrive/openpose_train_test_data/reduced_test_250/81. wide'.\n",
            "There are 0 directories and 250 images in '/content/drive/MyDrive/openpose_train_test_data/reduced_test_250/52. Good afternoon'.\n",
            "There are 0 directories and 245 images in '/content/drive/MyDrive/openpose_train_test_data/reduced_test_250/44. it'.\n",
            "There are 0 directories and 250 images in '/content/drive/MyDrive/openpose_train_test_data/reduced_test_250/45. we'.\n",
            "There are 0 directories and 250 images in '/content/drive/MyDrive/openpose_train_test_data/reduced_test_250/46. you (plural)'.\n",
            "There are 0 directories and 250 images in '/content/drive/MyDrive/openpose_train_test_data/reduced_test_250/55. Thank you'.\n",
            "There are 0 directories and 105 images in '/content/drive/MyDrive/openpose_train_test_data/reduced_test_250/4. sad'.\n",
            "There are 0 directories and 109 images in '/content/drive/MyDrive/openpose_train_test_data/reduced_test_250/5. Beautiful'.\n",
            "There are 0 directories and 98 images in '/content/drive/MyDrive/openpose_train_test_data/reduced_test_250/6. Ugly'.\n",
            "There are 0 directories and 250 images in '/content/drive/MyDrive/openpose_train_test_data/reduced_test_250/40. I'.\n",
            "There are 0 directories and 228 images in '/content/drive/MyDrive/openpose_train_test_data/reduced_test_250/90. cool'.\n",
            "There are 0 directories and 243 images in '/content/drive/MyDrive/openpose_train_test_data/reduced_test_250/87. hot'.\n",
            "There are 0 directories and 250 images in '/content/drive/MyDrive/openpose_train_test_data/reduced_test_250/41. you'.\n",
            "There are 0 directories and 250 images in '/content/drive/MyDrive/openpose_train_test_data/reduced_test_250/54. Good night'.\n",
            "There are 0 directories and 91 images in '/content/drive/MyDrive/openpose_train_test_data/reduced_test_250/8. Blind'.\n",
            "There are 0 directories and 223 images in '/content/drive/MyDrive/openpose_train_test_data/reduced_test_250/88. cold'.\n",
            "There are 0 directories and 223 images in '/content/drive/MyDrive/openpose_train_test_data/reduced_test_250/3. happy'.\n",
            "There are 0 directories and 244 images in '/content/drive/MyDrive/openpose_train_test_data/reduced_test_250/78. long'.\n",
            "There are 0 directories and 250 images in '/content/drive/MyDrive/openpose_train_test_data/reduced_test_250/98. sick'.\n",
            "There are 0 directories and 250 images in '/content/drive/MyDrive/openpose_train_test_data/reduced_test_250/99. healthy'.\n",
            "There are 0 directories and 250 images in '/content/drive/MyDrive/openpose_train_test_data/reduced_test_250/51. Good Morning'.\n",
            "There are 0 directories and 97 images in '/content/drive/MyDrive/openpose_train_test_data/reduced_test_250/36. light'.\n",
            "There are 0 directories and 84 images in '/content/drive/MyDrive/openpose_train_test_data/reduced_test_250/39. famous'.\n",
            "There are 0 directories and 250 images in '/content/drive/MyDrive/openpose_train_test_data/reduced_test_250/2. quiet'.\n"
          ]
        }
      ]
    },
    {
      "cell_type": "markdown",
      "source": [
        "## Preparing 10 % of train dataset for building CNN model later on"
      ],
      "metadata": {
        "id": "aNulf14x3Vt_"
      }
    },
    {
      "cell_type": "code",
      "source": [
        "import os\n",
        "import random\n",
        "import shutil\n",
        "\n",
        "original_train_dir = '/content/drive/MyDrive/openpose_train_test_data/reduced_train_1000'  # Original full training set\n",
        "reduced_train_dir = '/content/drive/MyDrive/openpose_train_test_data/10_percent_reduced_train_data'  # Destination\n",
        "\n",
        "# Create the reduced_train directory\n",
        "os.makedirs(reduced_train_dir, exist_ok=True)\n",
        "\n",
        "# Iterate through each class folder\n",
        "for class_name in os.listdir(original_train_dir):\n",
        "    class_path = os.path.join(original_train_dir, class_name)\n",
        "    if not os.path.isdir(class_path):\n",
        "        continue\n",
        "\n",
        "    # Create corresponding class folder in reduced_train\n",
        "    new_class_path = os.path.join(reduced_train_dir, class_name)\n",
        "    os.makedirs(new_class_path, exist_ok=True)\n",
        "\n",
        "    # Get all image files in this class\n",
        "    images = [img for img in os.listdir(class_path) if img.lower().endswith(('.png', '.jpg', '.jpeg'))]\n",
        "    sample_count = max(1, int(len(images) * 0.10))  # Take at least 1 image per class\n",
        "    sampled_images = random.sample(images, sample_count)\n",
        "\n",
        "    # Copy sampled images to the reduced folder\n",
        "    for img in sampled_images:\n",
        "        src = os.path.join(class_path, img)\n",
        "        dst = os.path.join(new_class_path, img)\n",
        "        shutil.copy2(src, dst)\n",
        "\n",
        "    print(f\"Copied {len(sampled_images)} images to {new_class_path}\")\n"
      ],
      "metadata": {
        "id": "4RIqiA_AZ9I1",
        "colab": {
          "base_uri": "https://localhost:8080/"
        },
        "outputId": "59f06021-26a2-4adf-e985-a5350571d98b"
      },
      "execution_count": null,
      "outputs": [
        {
          "output_type": "stream",
          "name": "stdout",
          "text": [
            "Copied 100 images to /content/drive/MyDrive/openpose_train_test_data/10_percent_reduced_train_data/48. Hello\n",
            "Copied 100 images to /content/drive/MyDrive/openpose_train_test_data/10_percent_reduced_train_data/52. Good afternoon\n",
            "Copied 100 images to /content/drive/MyDrive/openpose_train_test_data/10_percent_reduced_train_data/88. cold\n",
            "Copied 100 images to /content/drive/MyDrive/openpose_train_test_data/10_percent_reduced_train_data/55. Thank you\n",
            "Copied 100 images to /content/drive/MyDrive/openpose_train_test_data/10_percent_reduced_train_data/80. tall\n",
            "Copied 100 images to /content/drive/MyDrive/openpose_train_test_data/10_percent_reduced_train_data/40. I\n",
            "Copied 100 images to /content/drive/MyDrive/openpose_train_test_data/10_percent_reduced_train_data/54. Good night\n",
            "Copied 100 images to /content/drive/MyDrive/openpose_train_test_data/10_percent_reduced_train_data/49. How are you\n",
            "Copied 100 images to /content/drive/MyDrive/openpose_train_test_data/10_percent_reduced_train_data/1. loud\n",
            "Copied 100 images to /content/drive/MyDrive/openpose_train_test_data/10_percent_reduced_train_data/45. we\n",
            "Copied 100 images to /content/drive/MyDrive/openpose_train_test_data/10_percent_reduced_train_data/53. Good evening\n",
            "Copied 100 images to /content/drive/MyDrive/openpose_train_test_data/10_percent_reduced_train_data/36. light\n",
            "Copied 100 images to /content/drive/MyDrive/openpose_train_test_data/10_percent_reduced_train_data/41. you\n",
            "Copied 100 images to /content/drive/MyDrive/openpose_train_test_data/10_percent_reduced_train_data/50. Alright\n",
            "Copied 100 images to /content/drive/MyDrive/openpose_train_test_data/10_percent_reduced_train_data/79. short\n",
            "Copied 100 images to /content/drive/MyDrive/openpose_train_test_data/10_percent_reduced_train_data/89. warm\n",
            "Copied 100 images to /content/drive/MyDrive/openpose_train_test_data/10_percent_reduced_train_data/8. Blind\n",
            "Copied 100 images to /content/drive/MyDrive/openpose_train_test_data/10_percent_reduced_train_data/3. happy\n",
            "Copied 100 images to /content/drive/MyDrive/openpose_train_test_data/10_percent_reduced_train_data/46. you (plural)\n",
            "Copied 100 images to /content/drive/MyDrive/openpose_train_test_data/10_percent_reduced_train_data/43. she\n",
            "Copied 100 images to /content/drive/MyDrive/openpose_train_test_data/10_percent_reduced_train_data/98. sick\n",
            "Copied 100 images to /content/drive/MyDrive/openpose_train_test_data/10_percent_reduced_train_data/99. healthy\n",
            "Copied 100 images to /content/drive/MyDrive/openpose_train_test_data/10_percent_reduced_train_data/47. they\n",
            "Copied 100 images to /content/drive/MyDrive/openpose_train_test_data/10_percent_reduced_train_data/56. Pleased\n",
            "Copied 100 images to /content/drive/MyDrive/openpose_train_test_data/10_percent_reduced_train_data/51. Good Morning\n",
            "Copied 100 images to /content/drive/MyDrive/openpose_train_test_data/10_percent_reduced_train_data/78. long\n",
            "Copied 100 images to /content/drive/MyDrive/openpose_train_test_data/10_percent_reduced_train_data/2. quiet\n",
            "Copied 94 images to /content/drive/MyDrive/openpose_train_test_data/10_percent_reduced_train_data/39. famous\n",
            "Copied 100 images to /content/drive/MyDrive/openpose_train_test_data/10_percent_reduced_train_data/42. he\n",
            "Copied 100 images to /content/drive/MyDrive/openpose_train_test_data/10_percent_reduced_train_data/81. wide\n",
            "Copied 100 images to /content/drive/MyDrive/openpose_train_test_data/10_percent_reduced_train_data/44. it\n",
            "Copied 100 images to /content/drive/MyDrive/openpose_train_test_data/10_percent_reduced_train_data/87. hot\n",
            "Copied 100 images to /content/drive/MyDrive/openpose_train_test_data/10_percent_reduced_train_data/90. cool\n",
            "Copied 100 images to /content/drive/MyDrive/openpose_train_test_data/10_percent_reduced_train_data/91. new\n",
            "Copied 100 images to /content/drive/MyDrive/openpose_train_test_data/10_percent_reduced_train_data/97. dry\n",
            "Copied 100 images to /content/drive/MyDrive/openpose_train_test_data/10_percent_reduced_train_data/7. Deaf\n",
            "Copied 100 images to /content/drive/MyDrive/openpose_train_test_data/10_percent_reduced_train_data/5. Beautiful\n",
            "Copied 100 images to /content/drive/MyDrive/openpose_train_test_data/10_percent_reduced_train_data/4. sad\n",
            "Copied 100 images to /content/drive/MyDrive/openpose_train_test_data/10_percent_reduced_train_data/6. Ugly\n"
          ]
        }
      ]
    },
    {
      "cell_type": "markdown",
      "source": [
        "## Working on feature extraction data"
      ],
      "metadata": {
        "id": "TzXpQGQeOaeY"
      }
    },
    {
      "cell_type": "code",
      "source": [
        "import os\n",
        "import random\n",
        "import shutil\n",
        "\n",
        "original_train_dir = '/content/drive/MyDrive/feature_train_test_data/train'  # Update as needed\n",
        "reduced_train_dir = '/content/drive/MyDrive/feature_train_test_data/reduced_train_750'\n",
        "\n",
        "# Create the reduced_train directory\n",
        "os.makedirs(reduced_train_dir, exist_ok=True)\n",
        "\n",
        "# Iterate through each class folder\n",
        "for class_name in os.listdir(original_train_dir):\n",
        "    class_path = os.path.join(original_train_dir, class_name)\n",
        "    if not os.path.isdir(class_path):\n",
        "        continue\n",
        "\n",
        "    # Create corresponding class folder in reduced_train\n",
        "    new_class_path = os.path.join(reduced_train_dir, class_name)\n",
        "    os.makedirs(new_class_path, exist_ok=True)\n",
        "\n",
        "    # Get all image files in this class\n",
        "    images = os.listdir(class_path)\n",
        "    sampled_images = random.sample(images, min(len(images), 750))  # Sample up to 1000\n",
        "\n",
        "    # Copy sampled images to the reduced folder\n",
        "    for img in sampled_images:\n",
        "        src = os.path.join(class_path, img)\n",
        "        dst = os.path.join(new_class_path, img)\n",
        "        shutil.copy2(src, dst)\n",
        "\n",
        "    print(f\"Copied {len(sampled_images)} images to {new_class_path}\")"
      ],
      "metadata": {
        "id": "Qzf3kzIB3ty7",
        "colab": {
          "base_uri": "https://localhost:8080/"
        },
        "outputId": "ace13d08-540a-4970-e01c-2396487c4d16"
      },
      "execution_count": null,
      "outputs": [
        {
          "output_type": "stream",
          "name": "stdout",
          "text": [
            "Copied 750 images to /content/drive/MyDrive/feature_train_test_data/reduced_train_750/1. loud\n",
            "Copied 750 images to /content/drive/MyDrive/feature_train_test_data/reduced_train_750/2. quiet\n",
            "Copied 750 images to /content/drive/MyDrive/feature_train_test_data/reduced_train_750/3. happy\n",
            "Copied 750 images to /content/drive/MyDrive/feature_train_test_data/reduced_train_750/36. light\n",
            "Copied 672 images to /content/drive/MyDrive/feature_train_test_data/reduced_train_750/39. famous\n",
            "Copied 750 images to /content/drive/MyDrive/feature_train_test_data/reduced_train_750/4. sad\n",
            "Copied 750 images to /content/drive/MyDrive/feature_train_test_data/reduced_train_750/40. I\n",
            "Copied 750 images to /content/drive/MyDrive/feature_train_test_data/reduced_train_750/41. you\n",
            "Copied 750 images to /content/drive/MyDrive/feature_train_test_data/reduced_train_750/42. he\n",
            "Copied 750 images to /content/drive/MyDrive/feature_train_test_data/reduced_train_750/43. she\n",
            "Copied 750 images to /content/drive/MyDrive/feature_train_test_data/reduced_train_750/44. it\n",
            "Copied 750 images to /content/drive/MyDrive/feature_train_test_data/reduced_train_750/45. we\n",
            "Copied 750 images to /content/drive/MyDrive/feature_train_test_data/reduced_train_750/46. you (plural)\n",
            "Copied 750 images to /content/drive/MyDrive/feature_train_test_data/reduced_train_750/47. they\n",
            "Copied 750 images to /content/drive/MyDrive/feature_train_test_data/reduced_train_750/48. Hello\n",
            "Copied 750 images to /content/drive/MyDrive/feature_train_test_data/reduced_train_750/49. How are you\n",
            "Copied 108 images to /content/drive/MyDrive/feature_train_test_data/reduced_train_750/Extra\n",
            "Copied 750 images to /content/drive/MyDrive/feature_train_test_data/reduced_train_750/5. Beautiful\n",
            "Copied 750 images to /content/drive/MyDrive/feature_train_test_data/reduced_train_750/50. Alright\n",
            "Copied 750 images to /content/drive/MyDrive/feature_train_test_data/reduced_train_750/51. Good Morning\n",
            "Copied 750 images to /content/drive/MyDrive/feature_train_test_data/reduced_train_750/52. Good afternoon\n",
            "Copied 750 images to /content/drive/MyDrive/feature_train_test_data/reduced_train_750/53. Good evening\n",
            "Copied 750 images to /content/drive/MyDrive/feature_train_test_data/reduced_train_750/54. Good night\n",
            "Copied 750 images to /content/drive/MyDrive/feature_train_test_data/reduced_train_750/55. Thank you\n",
            "Copied 750 images to /content/drive/MyDrive/feature_train_test_data/reduced_train_750/56. Pleased\n",
            "Copied 750 images to /content/drive/MyDrive/feature_train_test_data/reduced_train_750/6. Ugly\n",
            "Copied 720 images to /content/drive/MyDrive/feature_train_test_data/reduced_train_750/7. Deaf\n",
            "Copied 750 images to /content/drive/MyDrive/feature_train_test_data/reduced_train_750/78. long\n",
            "Copied 94 images to /content/drive/MyDrive/feature_train_test_data/reduced_train_750/extra\n",
            "Copied 750 images to /content/drive/MyDrive/feature_train_test_data/reduced_train_750/79. short\n",
            "Copied 726 images to /content/drive/MyDrive/feature_train_test_data/reduced_train_750/8. Blind\n",
            "Copied 750 images to /content/drive/MyDrive/feature_train_test_data/reduced_train_750/80. tall\n",
            "Copied 750 images to /content/drive/MyDrive/feature_train_test_data/reduced_train_750/81. wide\n",
            "Copied 750 images to /content/drive/MyDrive/feature_train_test_data/reduced_train_750/87. hot\n",
            "Copied 750 images to /content/drive/MyDrive/feature_train_test_data/reduced_train_750/88. cold\n",
            "Copied 750 images to /content/drive/MyDrive/feature_train_test_data/reduced_train_750/89. warm\n",
            "Copied 750 images to /content/drive/MyDrive/feature_train_test_data/reduced_train_750/90. cool\n",
            "Copied 750 images to /content/drive/MyDrive/feature_train_test_data/reduced_train_750/91. new\n",
            "Copied 750 images to /content/drive/MyDrive/feature_train_test_data/reduced_train_750/97. dry\n",
            "Copied 750 images to /content/drive/MyDrive/feature_train_test_data/reduced_train_750/98. sick\n",
            "Copied 750 images to /content/drive/MyDrive/feature_train_test_data/reduced_train_750/99. healthy\n"
          ]
        }
      ]
    },
    {
      "cell_type": "code",
      "source": [
        "walk_through_dir(\"/content/drive/MyDrive/feature_train_test_data/reduced_train_750\")"
      ],
      "metadata": {
        "colab": {
          "base_uri": "https://localhost:8080/"
        },
        "id": "DhzyA6kkOual",
        "outputId": "1cc1a05b-96b1-4265-896f-ecce1f54d1f1"
      },
      "execution_count": null,
      "outputs": [
        {
          "output_type": "stream",
          "name": "stdout",
          "text": [
            "There are 41 directories and 0 images in '/content/drive/MyDrive/feature_train_test_data/reduced_train_750'.\n",
            "There are 0 directories and 750 images in '/content/drive/MyDrive/feature_train_test_data/reduced_train_750/1. loud'.\n",
            "There are 0 directories and 750 images in '/content/drive/MyDrive/feature_train_test_data/reduced_train_750/2. quiet'.\n",
            "There are 0 directories and 750 images in '/content/drive/MyDrive/feature_train_test_data/reduced_train_750/3. happy'.\n",
            "There are 0 directories and 750 images in '/content/drive/MyDrive/feature_train_test_data/reduced_train_750/36. light'.\n",
            "There are 0 directories and 672 images in '/content/drive/MyDrive/feature_train_test_data/reduced_train_750/39. famous'.\n",
            "There are 0 directories and 750 images in '/content/drive/MyDrive/feature_train_test_data/reduced_train_750/4. sad'.\n",
            "There are 0 directories and 750 images in '/content/drive/MyDrive/feature_train_test_data/reduced_train_750/40. I'.\n",
            "There are 0 directories and 750 images in '/content/drive/MyDrive/feature_train_test_data/reduced_train_750/41. you'.\n",
            "There are 0 directories and 750 images in '/content/drive/MyDrive/feature_train_test_data/reduced_train_750/42. he'.\n",
            "There are 0 directories and 750 images in '/content/drive/MyDrive/feature_train_test_data/reduced_train_750/43. she'.\n",
            "There are 0 directories and 750 images in '/content/drive/MyDrive/feature_train_test_data/reduced_train_750/44. it'.\n",
            "There are 0 directories and 750 images in '/content/drive/MyDrive/feature_train_test_data/reduced_train_750/45. we'.\n",
            "There are 0 directories and 750 images in '/content/drive/MyDrive/feature_train_test_data/reduced_train_750/46. you (plural)'.\n",
            "There are 0 directories and 750 images in '/content/drive/MyDrive/feature_train_test_data/reduced_train_750/47. they'.\n",
            "There are 0 directories and 750 images in '/content/drive/MyDrive/feature_train_test_data/reduced_train_750/48. Hello'.\n",
            "There are 0 directories and 750 images in '/content/drive/MyDrive/feature_train_test_data/reduced_train_750/49. How are you'.\n",
            "There are 0 directories and 108 images in '/content/drive/MyDrive/feature_train_test_data/reduced_train_750/Extra'.\n",
            "There are 0 directories and 750 images in '/content/drive/MyDrive/feature_train_test_data/reduced_train_750/5. Beautiful'.\n",
            "There are 0 directories and 750 images in '/content/drive/MyDrive/feature_train_test_data/reduced_train_750/50. Alright'.\n",
            "There are 0 directories and 750 images in '/content/drive/MyDrive/feature_train_test_data/reduced_train_750/51. Good Morning'.\n",
            "There are 0 directories and 750 images in '/content/drive/MyDrive/feature_train_test_data/reduced_train_750/52. Good afternoon'.\n",
            "There are 0 directories and 750 images in '/content/drive/MyDrive/feature_train_test_data/reduced_train_750/53. Good evening'.\n",
            "There are 0 directories and 750 images in '/content/drive/MyDrive/feature_train_test_data/reduced_train_750/54. Good night'.\n",
            "There are 0 directories and 750 images in '/content/drive/MyDrive/feature_train_test_data/reduced_train_750/55. Thank you'.\n",
            "There are 0 directories and 750 images in '/content/drive/MyDrive/feature_train_test_data/reduced_train_750/56. Pleased'.\n",
            "There are 0 directories and 750 images in '/content/drive/MyDrive/feature_train_test_data/reduced_train_750/6. Ugly'.\n",
            "There are 0 directories and 720 images in '/content/drive/MyDrive/feature_train_test_data/reduced_train_750/7. Deaf'.\n",
            "There are 0 directories and 750 images in '/content/drive/MyDrive/feature_train_test_data/reduced_train_750/78. long'.\n",
            "There are 0 directories and 94 images in '/content/drive/MyDrive/feature_train_test_data/reduced_train_750/extra'.\n",
            "There are 0 directories and 750 images in '/content/drive/MyDrive/feature_train_test_data/reduced_train_750/79. short'.\n",
            "There are 0 directories and 726 images in '/content/drive/MyDrive/feature_train_test_data/reduced_train_750/8. Blind'.\n",
            "There are 0 directories and 750 images in '/content/drive/MyDrive/feature_train_test_data/reduced_train_750/80. tall'.\n",
            "There are 0 directories and 750 images in '/content/drive/MyDrive/feature_train_test_data/reduced_train_750/81. wide'.\n",
            "There are 0 directories and 750 images in '/content/drive/MyDrive/feature_train_test_data/reduced_train_750/87. hot'.\n",
            "There are 0 directories and 750 images in '/content/drive/MyDrive/feature_train_test_data/reduced_train_750/88. cold'.\n",
            "There are 0 directories and 750 images in '/content/drive/MyDrive/feature_train_test_data/reduced_train_750/89. warm'.\n",
            "There are 0 directories and 750 images in '/content/drive/MyDrive/feature_train_test_data/reduced_train_750/90. cool'.\n",
            "There are 0 directories and 750 images in '/content/drive/MyDrive/feature_train_test_data/reduced_train_750/91. new'.\n",
            "There are 0 directories and 750 images in '/content/drive/MyDrive/feature_train_test_data/reduced_train_750/97. dry'.\n",
            "There are 0 directories and 750 images in '/content/drive/MyDrive/feature_train_test_data/reduced_train_750/98. sick'.\n",
            "There are 0 directories and 750 images in '/content/drive/MyDrive/feature_train_test_data/reduced_train_750/99. healthy'.\n"
          ]
        }
      ]
    },
    {
      "cell_type": "code",
      "source": [
        "import os\n",
        "import random\n",
        "import shutil\n",
        "\n",
        "original_test_dir = '/content/drive/MyDrive/feature_train_test_data/test'  # Update if needed\n",
        "reduced_test_dir = '/content/drive/MyDrive/feature_train_test_data/reduced_test_250'\n",
        "\n",
        "# Create the reduced_test directory\n",
        "os.makedirs(reduced_test_dir, exist_ok=True)\n",
        "\n",
        "# Iterate through each class folder\n",
        "for class_name in os.listdir(original_test_dir):\n",
        "    class_path = os.path.join(original_test_dir, class_name)\n",
        "    if not os.path.isdir(class_path):\n",
        "        continue\n",
        "\n",
        "    # Create corresponding class folder in reduced_test\n",
        "    new_class_path = os.path.join(reduced_test_dir, class_name)\n",
        "    os.makedirs(new_class_path, exist_ok=True)\n",
        "\n",
        "    # Get all image files in this class\n",
        "    images = os.listdir(class_path)\n",
        "    sampled_images = random.sample(images, min(len(images), 250))  # Sample up to 250\n",
        "\n",
        "    # Copy sampled images to the reduced folder\n",
        "    for img in sampled_images:\n",
        "        src = os.path.join(class_path, img)\n",
        "        dst = os.path.join(new_class_path, img)\n",
        "        shutil.copy2(src, dst)\n",
        "\n",
        "    print(f\"Copied {len(sampled_images)} images to {new_class_path}\")\n"
      ],
      "metadata": {
        "colab": {
          "base_uri": "https://localhost:8080/"
        },
        "id": "CqGQLQlgeFXc",
        "outputId": "3aaa48af-fe55-4e11-f339-8b534552719b"
      },
      "execution_count": null,
      "outputs": [
        {
          "output_type": "stream",
          "name": "stdout",
          "text": [
            "Copied 234 images to /content/drive/MyDrive/feature_train_test_data/reduced_test_250/1. loud\n",
            "Copied 250 images to /content/drive/MyDrive/feature_train_test_data/reduced_test_250/2. quiet\n",
            "Copied 223 images to /content/drive/MyDrive/feature_train_test_data/reduced_test_250/3. happy\n",
            "Copied 97 images to /content/drive/MyDrive/feature_train_test_data/reduced_test_250/36. light\n",
            "Copied 84 images to /content/drive/MyDrive/feature_train_test_data/reduced_test_250/39. famous\n",
            "Copied 105 images to /content/drive/MyDrive/feature_train_test_data/reduced_test_250/4. sad\n",
            "Copied 250 images to /content/drive/MyDrive/feature_train_test_data/reduced_test_250/40. I\n",
            "Copied 250 images to /content/drive/MyDrive/feature_train_test_data/reduced_test_250/41. you\n",
            "Copied 250 images to /content/drive/MyDrive/feature_train_test_data/reduced_test_250/42. he\n",
            "Copied 250 images to /content/drive/MyDrive/feature_train_test_data/reduced_test_250/43. she\n",
            "Copied 246 images to /content/drive/MyDrive/feature_train_test_data/reduced_test_250/44. it\n",
            "Copied 250 images to /content/drive/MyDrive/feature_train_test_data/reduced_test_250/45. we\n",
            "Copied 250 images to /content/drive/MyDrive/feature_train_test_data/reduced_test_250/46. you (plural)\n",
            "Copied 250 images to /content/drive/MyDrive/feature_train_test_data/reduced_test_250/47. they\n",
            "Copied 250 images to /content/drive/MyDrive/feature_train_test_data/reduced_test_250/48. Hello\n",
            "Copied 250 images to /content/drive/MyDrive/feature_train_test_data/reduced_test_250/49. How are you\n",
            "Copied 14 images to /content/drive/MyDrive/feature_train_test_data/reduced_test_250/Extra\n",
            "Copied 109 images to /content/drive/MyDrive/feature_train_test_data/reduced_test_250/5. Beautiful\n",
            "Copied 250 images to /content/drive/MyDrive/feature_train_test_data/reduced_test_250/50. Alright\n",
            "Copied 250 images to /content/drive/MyDrive/feature_train_test_data/reduced_test_250/51. Good Morning\n",
            "Copied 250 images to /content/drive/MyDrive/feature_train_test_data/reduced_test_250/52. Good afternoon\n",
            "Copied 250 images to /content/drive/MyDrive/feature_train_test_data/reduced_test_250/53. Good evening\n",
            "Copied 250 images to /content/drive/MyDrive/feature_train_test_data/reduced_test_250/54. Good night\n",
            "Copied 250 images to /content/drive/MyDrive/feature_train_test_data/reduced_test_250/55. Thank you\n",
            "Copied 250 images to /content/drive/MyDrive/feature_train_test_data/reduced_test_250/56. Pleased\n",
            "Copied 98 images to /content/drive/MyDrive/feature_train_test_data/reduced_test_250/6. Ugly\n",
            "Copied 91 images to /content/drive/MyDrive/feature_train_test_data/reduced_test_250/7. Deaf\n",
            "Copied 244 images to /content/drive/MyDrive/feature_train_test_data/reduced_test_250/78. long\n",
            "Copied 12 images to /content/drive/MyDrive/feature_train_test_data/reduced_test_250/extra\n",
            "Copied 224 images to /content/drive/MyDrive/feature_train_test_data/reduced_test_250/79. short\n",
            "Copied 91 images to /content/drive/MyDrive/feature_train_test_data/reduced_test_250/8. Blind\n",
            "Copied 236 images to /content/drive/MyDrive/feature_train_test_data/reduced_test_250/80. tall\n",
            "Copied 241 images to /content/drive/MyDrive/feature_train_test_data/reduced_test_250/81. wide\n",
            "Copied 244 images to /content/drive/MyDrive/feature_train_test_data/reduced_test_250/87. hot\n",
            "Copied 224 images to /content/drive/MyDrive/feature_train_test_data/reduced_test_250/88. cold\n",
            "Copied 250 images to /content/drive/MyDrive/feature_train_test_data/reduced_test_250/89. warm\n",
            "Copied 229 images to /content/drive/MyDrive/feature_train_test_data/reduced_test_250/90. cool\n",
            "Copied 218 images to /content/drive/MyDrive/feature_train_test_data/reduced_test_250/91. new\n",
            "Copied 250 images to /content/drive/MyDrive/feature_train_test_data/reduced_test_250/97. dry\n",
            "Copied 250 images to /content/drive/MyDrive/feature_train_test_data/reduced_test_250/98. sick\n",
            "Copied 250 images to /content/drive/MyDrive/feature_train_test_data/reduced_test_250/99. healthy\n"
          ]
        }
      ]
    },
    {
      "cell_type": "code",
      "source": [
        "import os\n",
        "import random\n",
        "import shutil\n",
        "\n",
        "original_train_dir = '/content/drive/MyDrive/feature_train_test_data/reduced_train_750'  # Update as needed\n",
        "reduced_train_dir = '/content/drive/MyDrive/feature_train_test_data/reduced_train_300'\n",
        "\n",
        "# Create the reduced_train directory\n",
        "os.makedirs(reduced_train_dir, exist_ok=True)\n",
        "\n",
        "# Iterate through each class folder\n",
        "for class_name in os.listdir(original_train_dir):\n",
        "    class_path = os.path.join(original_train_dir, class_name)\n",
        "    if not os.path.isdir(class_path):\n",
        "        continue\n",
        "\n",
        "    # Create corresponding class folder in reduced_train\n",
        "    new_class_path = os.path.join(reduced_train_dir, class_name)\n",
        "    os.makedirs(new_class_path, exist_ok=True)\n",
        "\n",
        "    # Get all image files in this class\n",
        "    images = os.listdir(class_path)\n",
        "    sampled_images = random.sample(images, min(len(images), 300))  # Sample up to 1000\n",
        "\n",
        "    # Copy sampled images to the reduced folder\n",
        "    for img in sampled_images:\n",
        "        src = os.path.join(class_path, img)\n",
        "        dst = os.path.join(new_class_path, img)\n",
        "        shutil.copy2(src, dst)\n",
        "\n",
        "    print(f\"Copied {len(sampled_images)} images to {new_class_path}\")"
      ],
      "metadata": {
        "colab": {
          "base_uri": "https://localhost:8080/"
        },
        "id": "PtyySF69ep1I",
        "outputId": "98f865b1-995d-4f2b-dce6-41af51248f16"
      },
      "execution_count": null,
      "outputs": [
        {
          "output_type": "stream",
          "name": "stdout",
          "text": [
            "Copied 300 images to /content/drive/MyDrive/feature_train_test_data/reduced_train_300/1. loud\n",
            "Copied 300 images to /content/drive/MyDrive/feature_train_test_data/reduced_train_300/2. quiet\n",
            "Copied 300 images to /content/drive/MyDrive/feature_train_test_data/reduced_train_300/3. happy\n",
            "Copied 300 images to /content/drive/MyDrive/feature_train_test_data/reduced_train_300/36. light\n",
            "Copied 300 images to /content/drive/MyDrive/feature_train_test_data/reduced_train_300/39. famous\n",
            "Copied 300 images to /content/drive/MyDrive/feature_train_test_data/reduced_train_300/4. sad\n",
            "Copied 300 images to /content/drive/MyDrive/feature_train_test_data/reduced_train_300/40. I\n",
            "Copied 300 images to /content/drive/MyDrive/feature_train_test_data/reduced_train_300/41. you\n",
            "Copied 300 images to /content/drive/MyDrive/feature_train_test_data/reduced_train_300/42. he\n",
            "Copied 300 images to /content/drive/MyDrive/feature_train_test_data/reduced_train_300/43. she\n",
            "Copied 300 images to /content/drive/MyDrive/feature_train_test_data/reduced_train_300/44. it\n",
            "Copied 300 images to /content/drive/MyDrive/feature_train_test_data/reduced_train_300/45. we\n",
            "Copied 300 images to /content/drive/MyDrive/feature_train_test_data/reduced_train_300/46. you (plural)\n",
            "Copied 300 images to /content/drive/MyDrive/feature_train_test_data/reduced_train_300/47. they\n",
            "Copied 300 images to /content/drive/MyDrive/feature_train_test_data/reduced_train_300/48. Hello\n",
            "Copied 300 images to /content/drive/MyDrive/feature_train_test_data/reduced_train_300/49. How are you\n",
            "Copied 108 images to /content/drive/MyDrive/feature_train_test_data/reduced_train_300/Extra\n",
            "Copied 300 images to /content/drive/MyDrive/feature_train_test_data/reduced_train_300/5. Beautiful\n",
            "Copied 300 images to /content/drive/MyDrive/feature_train_test_data/reduced_train_300/50. Alright\n",
            "Copied 300 images to /content/drive/MyDrive/feature_train_test_data/reduced_train_300/51. Good Morning\n",
            "Copied 300 images to /content/drive/MyDrive/feature_train_test_data/reduced_train_300/52. Good afternoon\n",
            "Copied 300 images to /content/drive/MyDrive/feature_train_test_data/reduced_train_300/53. Good evening\n",
            "Copied 300 images to /content/drive/MyDrive/feature_train_test_data/reduced_train_300/54. Good night\n",
            "Copied 300 images to /content/drive/MyDrive/feature_train_test_data/reduced_train_300/55. Thank you\n",
            "Copied 300 images to /content/drive/MyDrive/feature_train_test_data/reduced_train_300/56. Pleased\n",
            "Copied 300 images to /content/drive/MyDrive/feature_train_test_data/reduced_train_300/6. Ugly\n",
            "Copied 300 images to /content/drive/MyDrive/feature_train_test_data/reduced_train_300/7. Deaf\n",
            "Copied 300 images to /content/drive/MyDrive/feature_train_test_data/reduced_train_300/78. long\n",
            "Copied 94 images to /content/drive/MyDrive/feature_train_test_data/reduced_train_300/extra\n",
            "Copied 300 images to /content/drive/MyDrive/feature_train_test_data/reduced_train_300/79. short\n",
            "Copied 300 images to /content/drive/MyDrive/feature_train_test_data/reduced_train_300/8. Blind\n",
            "Copied 300 images to /content/drive/MyDrive/feature_train_test_data/reduced_train_300/80. tall\n",
            "Copied 300 images to /content/drive/MyDrive/feature_train_test_data/reduced_train_300/81. wide\n",
            "Copied 300 images to /content/drive/MyDrive/feature_train_test_data/reduced_train_300/87. hot\n",
            "Copied 300 images to /content/drive/MyDrive/feature_train_test_data/reduced_train_300/88. cold\n",
            "Copied 300 images to /content/drive/MyDrive/feature_train_test_data/reduced_train_300/89. warm\n",
            "Copied 300 images to /content/drive/MyDrive/feature_train_test_data/reduced_train_300/90. cool\n",
            "Copied 300 images to /content/drive/MyDrive/feature_train_test_data/reduced_train_300/91. new\n",
            "Copied 300 images to /content/drive/MyDrive/feature_train_test_data/reduced_train_300/97. dry\n",
            "Copied 300 images to /content/drive/MyDrive/feature_train_test_data/reduced_train_300/98. sick\n",
            "Copied 300 images to /content/drive/MyDrive/feature_train_test_data/reduced_train_300/99. healthy\n"
          ]
        }
      ]
    },
    {
      "cell_type": "code",
      "source": [
        "import os\n",
        "import random\n",
        "import shutil\n",
        "\n",
        "original_train_dir = '/content/drive/MyDrive/feature_train_test_data/reduced_train_300'  # Update as needed\n",
        "reduced_train_dir = '/content/drive/MyDrive/feature_train_test_data/reduced_train_100'\n",
        "\n",
        "# Create the reduced_train directory\n",
        "os.makedirs(reduced_train_dir, exist_ok=True)\n",
        "\n",
        "# Iterate through each class folder\n",
        "for class_name in os.listdir(original_train_dir):\n",
        "    class_path = os.path.join(original_train_dir, class_name)\n",
        "    if not os.path.isdir(class_path):\n",
        "        continue\n",
        "\n",
        "    # Create corresponding class folder in reduced_train\n",
        "    new_class_path = os.path.join(reduced_train_dir, class_name)\n",
        "    os.makedirs(new_class_path, exist_ok=True)\n",
        "\n",
        "    # Get all image files in this class\n",
        "    images = os.listdir(class_path)\n",
        "    sampled_images = random.sample(images, min(len(images), 100))  # Sample up to 1000\n",
        "\n",
        "    # Copy sampled images to the reduced folder\n",
        "    for img in sampled_images:\n",
        "        src = os.path.join(class_path, img)\n",
        "        dst = os.path.join(new_class_path, img)\n",
        "        shutil.copy2(src, dst)\n",
        "\n",
        "    print(f\"Copied {len(sampled_images)} images to {new_class_path}\")"
      ],
      "metadata": {
        "id": "PNiXQy8jxiMw",
        "colab": {
          "base_uri": "https://localhost:8080/"
        },
        "outputId": "6f0a3a75-d26d-4375-831d-51a6f4e06dbe"
      },
      "execution_count": null,
      "outputs": [
        {
          "output_type": "stream",
          "name": "stdout",
          "text": [
            "Copied 100 images to /content/drive/MyDrive/feature_train_test_data/reduced_train_100/1. loud\n",
            "Copied 100 images to /content/drive/MyDrive/feature_train_test_data/reduced_train_100/2. quiet\n",
            "Copied 100 images to /content/drive/MyDrive/feature_train_test_data/reduced_train_100/3. happy\n",
            "Copied 100 images to /content/drive/MyDrive/feature_train_test_data/reduced_train_100/36. light\n",
            "Copied 100 images to /content/drive/MyDrive/feature_train_test_data/reduced_train_100/39. famous\n",
            "Copied 100 images to /content/drive/MyDrive/feature_train_test_data/reduced_train_100/4. sad\n",
            "Copied 100 images to /content/drive/MyDrive/feature_train_test_data/reduced_train_100/40. I\n",
            "Copied 100 images to /content/drive/MyDrive/feature_train_test_data/reduced_train_100/41. you\n",
            "Copied 100 images to /content/drive/MyDrive/feature_train_test_data/reduced_train_100/42. he\n",
            "Copied 100 images to /content/drive/MyDrive/feature_train_test_data/reduced_train_100/43. she\n",
            "Copied 100 images to /content/drive/MyDrive/feature_train_test_data/reduced_train_100/44. it\n",
            "Copied 100 images to /content/drive/MyDrive/feature_train_test_data/reduced_train_100/45. we\n",
            "Copied 100 images to /content/drive/MyDrive/feature_train_test_data/reduced_train_100/46. you (plural)\n",
            "Copied 100 images to /content/drive/MyDrive/feature_train_test_data/reduced_train_100/47. they\n",
            "Copied 100 images to /content/drive/MyDrive/feature_train_test_data/reduced_train_100/48. Hello\n",
            "Copied 100 images to /content/drive/MyDrive/feature_train_test_data/reduced_train_100/49. How are you\n",
            "Copied 100 images to /content/drive/MyDrive/feature_train_test_data/reduced_train_100/Extra\n",
            "Copied 100 images to /content/drive/MyDrive/feature_train_test_data/reduced_train_100/5. Beautiful\n",
            "Copied 100 images to /content/drive/MyDrive/feature_train_test_data/reduced_train_100/50. Alright\n",
            "Copied 100 images to /content/drive/MyDrive/feature_train_test_data/reduced_train_100/51. Good Morning\n",
            "Copied 100 images to /content/drive/MyDrive/feature_train_test_data/reduced_train_100/52. Good afternoon\n",
            "Copied 100 images to /content/drive/MyDrive/feature_train_test_data/reduced_train_100/53. Good evening\n",
            "Copied 100 images to /content/drive/MyDrive/feature_train_test_data/reduced_train_100/54. Good night\n",
            "Copied 100 images to /content/drive/MyDrive/feature_train_test_data/reduced_train_100/55. Thank you\n",
            "Copied 100 images to /content/drive/MyDrive/feature_train_test_data/reduced_train_100/56. Pleased\n",
            "Copied 100 images to /content/drive/MyDrive/feature_train_test_data/reduced_train_100/6. Ugly\n",
            "Copied 100 images to /content/drive/MyDrive/feature_train_test_data/reduced_train_100/7. Deaf\n",
            "Copied 100 images to /content/drive/MyDrive/feature_train_test_data/reduced_train_100/78. long\n",
            "Copied 94 images to /content/drive/MyDrive/feature_train_test_data/reduced_train_100/extra\n",
            "Copied 100 images to /content/drive/MyDrive/feature_train_test_data/reduced_train_100/79. short\n",
            "Copied 100 images to /content/drive/MyDrive/feature_train_test_data/reduced_train_100/8. Blind\n",
            "Copied 100 images to /content/drive/MyDrive/feature_train_test_data/reduced_train_100/80. tall\n",
            "Copied 100 images to /content/drive/MyDrive/feature_train_test_data/reduced_train_100/81. wide\n",
            "Copied 100 images to /content/drive/MyDrive/feature_train_test_data/reduced_train_100/87. hot\n",
            "Copied 100 images to /content/drive/MyDrive/feature_train_test_data/reduced_train_100/88. cold\n",
            "Copied 100 images to /content/drive/MyDrive/feature_train_test_data/reduced_train_100/89. warm\n",
            "Copied 100 images to /content/drive/MyDrive/feature_train_test_data/reduced_train_100/90. cool\n",
            "Copied 100 images to /content/drive/MyDrive/feature_train_test_data/reduced_train_100/91. new\n",
            "Copied 100 images to /content/drive/MyDrive/feature_train_test_data/reduced_train_100/97. dry\n",
            "Copied 100 images to /content/drive/MyDrive/feature_train_test_data/reduced_train_100/98. sick\n",
            "Copied 100 images to /content/drive/MyDrive/feature_train_test_data/reduced_train_100/99. healthy\n"
          ]
        }
      ]
    },
    {
      "cell_type": "code",
      "source": [],
      "metadata": {
        "id": "-zG70LiA3YZn"
      },
      "execution_count": null,
      "outputs": []
    }
  ]
}